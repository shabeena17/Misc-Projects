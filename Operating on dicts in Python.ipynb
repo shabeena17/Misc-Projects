{
 "cells": [
  {
   "cell_type": "markdown",
   "metadata": {},
   "source": [
    "#### Defining dictionaries of 4 kiosks, each dict containing data for last 4 Mondays"
   ]
  },
  {
   "cell_type": "code",
   "execution_count": 2,
   "metadata": {
    "collapsed": true
   },
   "outputs": [],
   "source": [
    "k1 = {\n",
    "  \"2017-04-24\":4000 ,\n",
    "  \"2017-04-17\":5000 ,\n",
    "  \"2017-04-10\":6000 ,\n",
    "  \"2017-04-03\":7000 ,  \n",
    "}\n",
    "k2 = {\n",
    "  \"2017-04-24\":400 ,\n",
    "  \"2017-04-17\":500 ,\n",
    "  \"2017-04-10\":600 ,\n",
    "  \"2017-04-03\":700 ,  \n",
    "}\n",
    "k3 = {\n",
    "  \"2017-04-24\":10000 ,\n",
    "  \"2017-04-17\":11000 ,\n",
    "  \"2017-04-10\":12000 ,\n",
    "  \"2017-04-03\":13000 ,  \n",
    "}\n",
    "k4 = {\n",
    "  \"2017-04-24\":40 ,\n",
    "  \"2017-04-17\":50 ,\n",
    "  \"2017-04-10\":60 ,\n",
    "  \"2017-04-03\":70 ,  \n",
    "}\n",
    "#putting all the dictionaries together in a list so that it can be operated easily in a loop\n",
    "listOfKiosks = [k1,k2,k3,k4]"
   ]
  },
  {
   "cell_type": "code",
   "execution_count": 22,
   "metadata": {
    "collapsed": false
   },
   "outputs": [
    {
     "name": "stdout",
     "output_type": "stream",
     "text": [
      "kiosk_id\tdate1\t\tdate2\t\tdifference\n",
      "1\t\t2017-04-17\t2017-04-24\t1000\n",
      "1\t\t2017-04-17\t2017-04-10\t-1000\n",
      "1\t\t2017-04-17\t2017-04-03\t-2000\n",
      "1\t\t2017-04-24\t2017-04-17\t-1000\n",
      "1\t\t2017-04-24\t2017-04-10\t-2000\n",
      "1\t\t2017-04-24\t2017-04-03\t-3000\n",
      "1\t\t2017-04-10\t2017-04-17\t1000\n",
      "1\t\t2017-04-10\t2017-04-24\t2000\n",
      "1\t\t2017-04-10\t2017-04-03\t-1000\n",
      "1\t\t2017-04-03\t2017-04-17\t2000\n",
      "1\t\t2017-04-03\t2017-04-24\t3000\n",
      "1\t\t2017-04-03\t2017-04-10\t1000\n",
      "\n",
      "\n",
      "kiosk_id\tdate1\t\tdate2\t\tdifference\n",
      "2\t\t2017-04-17\t2017-04-24\t100\n",
      "2\t\t2017-04-17\t2017-04-10\t-100\n",
      "2\t\t2017-04-17\t2017-04-03\t-200\n",
      "2\t\t2017-04-24\t2017-04-17\t-100\n",
      "2\t\t2017-04-24\t2017-04-10\t-200\n",
      "2\t\t2017-04-24\t2017-04-03\t-300\n",
      "2\t\t2017-04-10\t2017-04-17\t100\n",
      "2\t\t2017-04-10\t2017-04-24\t200\n",
      "2\t\t2017-04-10\t2017-04-03\t-100\n",
      "2\t\t2017-04-03\t2017-04-17\t200\n",
      "2\t\t2017-04-03\t2017-04-24\t300\n",
      "2\t\t2017-04-03\t2017-04-10\t100\n",
      "\n",
      "\n",
      "kiosk_id\tdate1\t\tdate2\t\tdifference\n",
      "3\t\t2017-04-17\t2017-04-24\t1000\n",
      "3\t\t2017-04-17\t2017-04-10\t-1000\n",
      "3\t\t2017-04-17\t2017-04-03\t-2000\n",
      "3\t\t2017-04-24\t2017-04-17\t-1000\n",
      "3\t\t2017-04-24\t2017-04-10\t-2000\n",
      "3\t\t2017-04-24\t2017-04-03\t-3000\n",
      "3\t\t2017-04-10\t2017-04-17\t1000\n",
      "3\t\t2017-04-10\t2017-04-24\t2000\n",
      "3\t\t2017-04-10\t2017-04-03\t-1000\n",
      "3\t\t2017-04-03\t2017-04-17\t2000\n",
      "3\t\t2017-04-03\t2017-04-24\t3000\n",
      "3\t\t2017-04-03\t2017-04-10\t1000\n",
      "\n",
      "\n",
      "kiosk_id\tdate1\t\tdate2\t\tdifference\n",
      "4\t\t2017-04-17\t2017-04-24\t10\n",
      "4\t\t2017-04-17\t2017-04-10\t-10\n",
      "4\t\t2017-04-17\t2017-04-03\t-20\n",
      "4\t\t2017-04-24\t2017-04-17\t-10\n",
      "4\t\t2017-04-24\t2017-04-10\t-20\n",
      "4\t\t2017-04-24\t2017-04-03\t-30\n",
      "4\t\t2017-04-10\t2017-04-17\t10\n",
      "4\t\t2017-04-10\t2017-04-24\t20\n",
      "4\t\t2017-04-10\t2017-04-03\t-10\n",
      "4\t\t2017-04-03\t2017-04-17\t20\n",
      "4\t\t2017-04-03\t2017-04-24\t30\n",
      "4\t\t2017-04-03\t2017-04-10\t10\n",
      "\n",
      "\n"
     ]
    }
   ],
   "source": [
    "i=1\n",
    "for kioskid in listOfKiosks:    # iterating over each kiosk in the list\n",
    "    print \"kiosk_id\" +\"\\t\"+\"date1\"+\"\\t\"+\"\\t\"+\"date2\"+\"\\t\"+\"\\t\"+\"difference\"\n",
    "    for monday in kioskid:     # iterating over all the items in a particular kiosk\n",
    "        for otherMonday in kioskid: # creating another loop for comparison\n",
    "            if monday != otherMonday: #if the dates are not the same, then compute the difference\n",
    "                print str(i)+\"\\t\"+\"\\t\"+monday +\"\\t\" +otherMonday +\"\\t\" + str(kioskid[monday]- kioskid[otherMonday])\n",
    "    i = i+1 # incrementing counter to print kiosk ids\n",
    "    print \"\\n\""
   ]
  }
 ],
 "metadata": {
  "kernelspec": {
   "display_name": "Python 2",
   "language": "python",
   "name": "python2"
  },
  "language_info": {
   "codemirror_mode": {
    "name": "ipython",
    "version": 2
   },
   "file_extension": ".py",
   "mimetype": "text/x-python",
   "name": "python",
   "nbconvert_exporter": "python",
   "pygments_lexer": "ipython2",
   "version": "2.7.11"
  }
 },
 "nbformat": 4,
 "nbformat_minor": 0
}
